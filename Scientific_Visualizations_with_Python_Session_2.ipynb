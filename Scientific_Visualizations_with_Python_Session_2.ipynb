{
  "nbformat": 4,
  "nbformat_minor": 0,
  "metadata": {
    "colab": {
      "provenance": [],
      "include_colab_link": true
    },
    "kernelspec": {
      "name": "python3",
      "display_name": "Python 3"
    },
    "language_info": {
      "name": "python"
    }
  },
  "cells": [
    {
      "cell_type": "markdown",
      "metadata": {
        "id": "view-in-github",
        "colab_type": "text"
      },
      "source": [
        "<a href=\"https://colab.research.google.com/github/kaorimiyazonoo/file_processing/blob/copying_files/Scientific_Visualizations_with_Python_Session_2.ipynb\" target=\"_parent\"><img src=\"https://colab.research.google.com/assets/colab-badge.svg\" alt=\"Open In Colab\"/></a>"
      ]
    },
    {
      "cell_type": "markdown",
      "source": [
        "# Scientific Visualizations with Python\n",
        "\n",
        "---\n",
        "\n",
        "Welcome to the Scientific Visualizations with Python course with the Lane Medical Library!\n",
        "\n",
        "**Audience**: Scientists or medical professionals interested in visualizing data using Python. Some introductory experience in Python is expected."
      ],
      "metadata": {
        "id": "rDcrR8bocjMG"
      }
    },
    {
      "cell_type": "markdown",
      "source": [
        "## Loading Some Data"
      ],
      "metadata": {
        "id": "IHwt9XqbeZFk"
      }
    },
    {
      "cell_type": "markdown",
      "source": [
        "Here, we are creating a `DataFrame` called `cal_housing` that will contain sample data provided in all Google Colab notebooks on housing prices in California. Each row represents one house. All of the variables are continuous (e.g., `latitude` or `median_income`).\n",
        "\n",
        "We will create two discrete variables. The first is called `median_age`, and it will put the house into one of six bins based on the age of the house. The second is `id`, which is a unique value for each house.\n",
        "\n",
        "The `.cut()` function in the `pandas` library is quite useful. It converts a continuous variable into a categorical variable by creating bins.\n",
        "\n",
        "The `.index` property of a `DataFrame` contains unique identifiers for each row. Here, we add it as the `id` column to the data frame."
      ],
      "metadata": {
        "id": "sUaLC0STdKR6"
      }
    },
    {
      "cell_type": "code",
      "source": [
        "import pandas as pd\n",
        "import numpy as np"
      ],
      "metadata": {
        "id": "VZVHE_Nfs5jC"
      },
      "execution_count": null,
      "outputs": []
    },
    {
      "cell_type": "code",
      "execution_count": null,
      "metadata": {
        "id": "6Y-RNOBbcMcu"
      },
      "outputs": [],
      "source": [
        "# Read data using the pandas read_csv function\n",
        "cal_housing = pd.read_csv('sample_data/california_housing_train.csv')\n",
        "\n",
        "# Create the median_age variable using the pandas cut function\n",
        "cal_housing['median_age'] = pd.cut(\n",
        "    cal_housing.housing_median_age, bins=[0, 10, 20, 30, 40, 50, 60],\n",
        "    labels=['0-10', '10-20', '20-30', '30-40', '40-50', '50-60'],\n",
        "    include_lowest=True\n",
        ")\n",
        "\n",
        "# Store the index of the DataFrame as a variable, which assigns a unique value\n",
        "# to each house\n",
        "cal_housing['id'] = cal_housing.index\n",
        "\n",
        "# Visualize the first few lines\n",
        "cal_housing.head()"
      ]
    },
    {
      "cell_type": "markdown",
      "source": [
        "## Scatter Plot\n",
        "\n",
        "A scatter plot is used to visualize the relationship between two continuous variables."
      ],
      "metadata": {
        "id": "Sddb6E_becVj"
      }
    },
    {
      "cell_type": "code",
      "source": [
        "import matplotlib.pyplot as plt"
      ],
      "metadata": {
        "id": "IQk5jEeEU2E2"
      },
      "execution_count": null,
      "outputs": []
    },
    {
      "cell_type": "markdown",
      "source": [
        "The `plt.scatter()` function generates a scatter plot. Recall from last session that the `median_house_value` is capped at 500,000. To account for this artifact, we will filter to records with a `median_house_value` of less than 500,000.\n",
        "\n",
        "In this plot, we visualize the relationship between `median_income` and `median_house_value`."
      ],
      "metadata": {
        "id": "YOvtaeOl_wqS"
      }
    },
    {
      "cell_type": "code",
      "source": [
        "plot_data = cal_housing[cal_housing.median_house_value < 500_000]\n",
        "\n",
        "plt.figure(figsize=(8, 8))\n",
        "\n",
        "plt.scatter(plot_data.median_income, plot_data.median_house_value)"
      ],
      "metadata": {
        "id": "sVtH0lGBs6SM"
      },
      "execution_count": null,
      "outputs": []
    },
    {
      "cell_type": "markdown",
      "source": [
        "❓ **Try it yourself!** The relationship is challenging to visualize because there are so many points. Overplotting can make it hard to interpret the density of points in various regions. The `plt.scatter()` function has a `s` argument that controls the size of the points. Try setting this to `1`."
      ],
      "metadata": {
        "id": "hy1APKkRAjBW"
      }
    },
    {
      "cell_type": "code",
      "source": [
        "# YOUR CODE HERE"
      ],
      "metadata": {
        "id": "LHBJ4wA1zebE"
      },
      "execution_count": null,
      "outputs": []
    },
    {
      "cell_type": "markdown",
      "source": [
        "❓ **Try it yourself!** Monetary values are often plotted on logarithmic scales. The `plt.xscale()` and `plt.yscale()` functions can change the scale of the data. Read up on them online and change both to a logarithmic scale!"
      ],
      "metadata": {
        "id": "0x8_lgwxAvvg"
      }
    },
    {
      "cell_type": "code",
      "source": [
        "# YOUR CODE HERE"
      ],
      "metadata": {
        "id": "mAzA0OcdzlMc"
      },
      "execution_count": null,
      "outputs": []
    },
    {
      "cell_type": "markdown",
      "source": [
        "❓ **Try it yourself!** There are two other useful arguments for `plt.scatter()`. The `alpha` argument controls the opacity of points, and the `marker` argument controls the shape of the point. Read up on these online, and then set the opacity to 10% and the marker to a cross."
      ],
      "metadata": {
        "id": "hYf4CT98BJnT"
      }
    },
    {
      "cell_type": "code",
      "source": [
        "# YOUR CODE HERE"
      ],
      "metadata": {
        "id": "1d9bZ5MY0iwU"
      },
      "execution_count": null,
      "outputs": []
    },
    {
      "cell_type": "markdown",
      "source": [
        "## Box Plot"
      ],
      "metadata": {
        "id": "lhIX0pRhuqjs"
      }
    },
    {
      "cell_type": "markdown",
      "source": [
        "A box plot, similar to a histogram, provides the distribution of a continuous variable. The reason we might use box plots is to visualize the distribution of a continuous variable, separated by discrete categories.\n",
        "\n",
        "In `matplotlib`, the `plt.boxplot()` function creates box plots. The function expects a list of lists. Each list within the grand list contains data for one box plot. For example, the list\n",
        "\n",
        "```\n",
        "[[1, 2, 3], [4, 5]]\n",
        "```\n",
        "\n",
        "will create two box plots - one with the data `[1, 2, 3]`, and the other with the data `[4, 5]`.\n",
        "\n",
        "We will plot the distribution of the log-normalized median house value against bins of median age. These bins have already been created when we processed the data.\n",
        "\n",
        "To create the list of lists, I start by identifying all the bins using some `pandas` code and store it in `median_age_cats`. Print out the value to see what is stored in it!\n",
        "\n",
        "Then, I use some `pandas` filtering steps to separate the `median_house_value` column based on the bin of `median_age`."
      ],
      "metadata": {
        "id": "ysSGZb9aOGU0"
      }
    },
    {
      "cell_type": "code",
      "source": [
        "median_age_cats = cal_housing.median_age.cat.categories.values\n",
        "\n",
        "plot_data = list()\n",
        "for median_age in median_age_cats:\n",
        "  cat_median_house_value = cal_housing.median_house_value[cal_housing.median_age == median_age]\n",
        "  plot_data.append(np.log(cat_median_house_value.values))"
      ],
      "metadata": {
        "id": "_apcdBtAPASk"
      },
      "execution_count": null,
      "outputs": []
    },
    {
      "cell_type": "markdown",
      "source": [
        "❓ **Try it yourself!** Print out the values of `median_age_cats` and `plot_data` to understand how the code above works."
      ],
      "metadata": {
        "id": "Y3_VR3OUCB_X"
      }
    },
    {
      "cell_type": "code",
      "source": [
        "# YOUR CODE HERE"
      ],
      "metadata": {
        "id": "i_CQucJaCHRP"
      },
      "execution_count": null,
      "outputs": []
    },
    {
      "cell_type": "markdown",
      "source": [
        "Once you have formatted the data properly, plotting is straightforward with the `plt.boxplot()` function."
      ],
      "metadata": {
        "id": "AhRtPKlwPBvq"
      }
    },
    {
      "cell_type": "code",
      "source": [
        "plt.figure(figsize=(8, 8))\n",
        "\n",
        "plt.boxplot(plot_data, labels=median_age_cats)\n",
        "\n",
        "plt.xlabel('Median Age Bin')\n",
        "plt.ylabel('log(Median House Value)')"
      ],
      "metadata": {
        "id": "CDuu0tLSuqDN"
      },
      "execution_count": null,
      "outputs": []
    },
    {
      "cell_type": "markdown",
      "source": [
        "Changing colors is a little challenging with box plots. First, we have to set the `patch_artist` argument in the `plt.boxplot()` function to indicate that we want to edit the graphics further.\n",
        "\n",
        "The resulting object, which we store in `box_plot`, contains two items stored under the keys of `'boxes'` and `'medians'`. These are the graphic objects for the boxes and median lines respectively. We can loop through these and set the colors as necessary."
      ],
      "metadata": {
        "id": "DWf9sVo5CjIf"
      }
    },
    {
      "cell_type": "code",
      "source": [
        "plt.figure(figsize=(8, 8))\n",
        "\n",
        "box_plot = plt.boxplot(plot_data, patch_artist=True, labels=median_age_cats)\n",
        "\n",
        "for box in box_plot['boxes']:\n",
        "  box.set_facecolor('firebrick')\n",
        "for median in box_plot['medians']:\n",
        "  median.set_color('black')\n",
        "\n",
        "plt.xlabel('Median Age Bin')\n",
        "plt.ylabel('log(Median House Value)')"
      ],
      "metadata": {
        "id": "B-cJTlu3DCGb"
      },
      "execution_count": null,
      "outputs": []
    },
    {
      "cell_type": "markdown",
      "source": [
        "❓ **Try it yourself!** Choose six colors. Set the color of each box to a unique color, and set the median line color to `'black'`."
      ],
      "metadata": {
        "id": "PWUr3KH3C6m0"
      }
    },
    {
      "cell_type": "code",
      "source": [
        "# YOUR CODE HERE"
      ],
      "metadata": {
        "id": "YuEgNBh-N3Rv"
      },
      "execution_count": null,
      "outputs": []
    },
    {
      "cell_type": "markdown",
      "source": [
        "## Heatmaps\n",
        "\n",
        "Heatmaps are great for visualizing matrices. These are becoming increasingly popular in visualizing large genomics data sets, for example. Here, we will practice using the correlation matrix, which quickly summarizes the strength of lienar relationships between the various features in our data set."
      ],
      "metadata": {
        "id": "lFXQQDPwutiL"
      }
    },
    {
      "cell_type": "markdown",
      "source": [
        "First, I select a subset of columns that I think will be interesting to visualize. The resulting data frame is stored in `variables`.\n",
        "\n",
        "The `DataFrame` object has a very useful `corr()` function, which estimates the sample correlation matrix. This is stored in the `corr_mtx` variable."
      ],
      "metadata": {
        "id": "Nai1tIfyPc6m"
      }
    },
    {
      "cell_type": "code",
      "source": [
        "variables = cal_housing[[\n",
        "    'housing_median_age', 'total_rooms', 'total_bedrooms', 'population',\n",
        "    'households', 'median_income', 'median_house_value'\n",
        "]]\n",
        "\n",
        "corr_mtx = variables.corr()\n",
        "\n",
        "corr_mtx"
      ],
      "metadata": {
        "id": "s6aaqdE5uuIA"
      },
      "execution_count": null,
      "outputs": []
    },
    {
      "cell_type": "markdown",
      "source": [
        "The quickest way to plot this data is using the `plt.imshow()` function."
      ],
      "metadata": {
        "id": "FnI3iITBP0qN"
      }
    },
    {
      "cell_type": "code",
      "source": [
        "plt.figure(figsize=(8, 8))\n",
        "\n",
        "plt.imshow(corr_mtx)"
      ],
      "metadata": {
        "id": "pQCP1ebIPtQq"
      },
      "execution_count": null,
      "outputs": []
    },
    {
      "cell_type": "markdown",
      "source": [
        "Unfortunately, this does not tell us which variables each row/column represent. To add these, we use the `plt.xticks()` and `plt.yticks()` functions. For the x-axis, we additionally rotate the labels to help them fit onto the plot."
      ],
      "metadata": {
        "id": "b8DoCHH4DK3F"
      }
    },
    {
      "cell_type": "code",
      "source": [
        "variables = corr_mtx.columns.values\n",
        "\n",
        "plt.figure(figsize=(8, 8))\n",
        "\n",
        "plt.imshow(corr_mtx)\n",
        "\n",
        "plt.xticks(range(len(variables)), labels=variables, rotation=45, ha='right', rotation_mode='anchor')\n",
        "plt.yticks(range(len(variables)), labels=variables)"
      ],
      "metadata": {
        "id": "TcHOOFZLP_6Z"
      },
      "execution_count": null,
      "outputs": []
    },
    {
      "cell_type": "markdown",
      "source": [
        "The heatmap cannot be interpreted without a color bar, which indicates what different colors represent. The `plt.colorbar()` function creates a colorbar for the heatmap."
      ],
      "metadata": {
        "id": "y7vb1p9ODXvZ"
      }
    },
    {
      "cell_type": "code",
      "source": [
        "variables = corr_mtx.columns.values\n",
        "\n",
        "plt.figure(figsize=(8, 8))\n",
        "\n",
        "plt.imshow(corr_mtx)\n",
        "\n",
        "plt.xticks(range(len(variables)), labels=variables, rotation=45, ha='right', rotation_mode='anchor')\n",
        "plt.yticks(range(len(variables)), labels=variables)\n",
        "\n",
        "plt.colorbar()"
      ],
      "metadata": {
        "id": "LZUupL9mL0VK"
      },
      "execution_count": null,
      "outputs": []
    },
    {
      "cell_type": "markdown",
      "source": [
        "## A Full Example\n",
        "\n",
        "In this example, we will create a plot to show the results of linear regression on a subset of the data. The tools required to perform linear regression are available in the `numpy` and `scipy` libraries."
      ],
      "metadata": {
        "id": "J4Bk2d2tuuf3"
      }
    },
    {
      "cell_type": "code",
      "source": [
        "import scipy as sp\n",
        "import numpy as np"
      ],
      "metadata": {
        "id": "VGURQqarvPEG"
      },
      "execution_count": null,
      "outputs": []
    },
    {
      "cell_type": "markdown",
      "source": [
        "We will regress log-transformed median house value on log-trasnformed median income. We will use `np.random.choice()` to choose 30 random records from the data set. The `np.random.seed()` function allows us to replicate the chosen records."
      ],
      "metadata": {
        "id": "yctpyYFJlLI5"
      }
    },
    {
      "cell_type": "code",
      "source": [
        "plot_data = cal_housing[cal_housing.median_house_value < 500_000]\n",
        "\n",
        "x = np.log(plot_data.median_income.values)\n",
        "y = np.log(plot_data.median_house_value.values)\n",
        "\n",
        "np.random.seed(42)\n",
        "idx = np.random.choice(np.arange(len(x)), 30, replace=False)\n",
        "x = x[idx]\n",
        "y = y[idx]"
      ],
      "metadata": {
        "id": "t_hW_vwvvXEt"
      },
      "execution_count": null,
      "outputs": []
    },
    {
      "cell_type": "markdown",
      "source": [
        "The `sp.stats.linregress()` function performs simple linear regression between an independent and dependent variable. The object returned by the function contains the results, including the `intercept`, `slope`, and `rvalue` (coefficient of determination).\n",
        "\n",
        "We extract the intercept as `alpha`, the slope as `beta`, and the number of samples as `n`."
      ],
      "metadata": {
        "id": "3Iwb_AZxlaMr"
      }
    },
    {
      "cell_type": "code",
      "source": [
        "lin_res = sp.stats.linregress(x, y)\n",
        "alpha = lin_res.intercept\n",
        "beta = lin_res.slope\n",
        "n = len(x)"
      ],
      "metadata": {
        "id": "SUhSak7ClZ7n"
      },
      "execution_count": null,
      "outputs": []
    },
    {
      "cell_type": "markdown",
      "source": [
        "We perform some calculations to estimate the confidence band around the linear model under a standard assumption of normality. Briefly, the confidence band is\n",
        "\n",
        "$$\\begin{align}\n",
        "\\alpha + \\beta x_0 &\\in \\left( \\hat{\\alpha} + \\hat{\\beta} x_0 \\right) \\pm t^*_{n-2} \\sqrt{ \\left( \\frac{1}{n-2} \\sum_{i=1}^n \\hat{\\epsilon}_i^2 \\right) \\cdot \\left( \\frac{1}{n} + \\frac{ \\left( x_0 - \\bar{x} \\right)^2 }{ \\sum_{i=1}^n \\left( x_i - \\bar{x} \\right)^2 } \\right) }\\\\\n",
        "&\\in \\left( \\hat{\\alpha} + \\hat{\\beta} x_0 \\right) \\pm t^*_{n-2} \\sqrt{ \\frac{\\mathrm{RSS}}{n-2} \\left( \\frac{1}{n} + \\frac{ \\left( x_0 - \\bar{x} \\right)^2 }{ \\mathrm{XMSE} } \\right) }\\\\\n",
        "\\end{align}$$\n",
        "\n",
        "for some test point $x_0$, as discussed [here](https://en.wikipedia.org/wiki/Simple_linear_regression#Normality_assumption)."
      ],
      "metadata": {
        "id": "MpjJ9v7Yl2cV"
      }
    },
    {
      "cell_type": "code",
      "source": [
        "# Critical value from the T distribution\n",
        "t_crit = sp.stats.t.ppf(1 - (0.05 / 2), n - 2)\n",
        "\n",
        "# Regression Sum of Squares (RSS)\n",
        "# X Mean Squared Error (XMSE)\n",
        "rss = np.sum((y - (alpha + beta * x))**2)\n",
        "xmse = np.sum((x - np.mean(x))**2)\n",
        "\n",
        "# Create a grid of test points to plot\n",
        "test_x = np.linspace(x.min(), x.max(), 301)\n",
        "\n",
        "# Create the interval for the test points\n",
        "interval = t_crit * np.sqrt(rss / (n - 2)) * ((1 / n) + ((test_x - np.mean(x))**2) / xmse)"
      ],
      "metadata": {
        "id": "d0n9BBDjgi7l"
      },
      "execution_count": null,
      "outputs": []
    },
    {
      "cell_type": "markdown",
      "source": [
        "The `plt.plot()` function creates a connected curve based on the points provided. We can use this to make a line.\n",
        "\n",
        "The `plt.fill_between()` function creates a \"ribbon\" that is filled. This allows us to plot the confidence band around the fitted model.\n",
        "\n",
        "The `plt.text()` function allows us to place arbitrary text in the figure, which we can use to plot the equation of the fit model and the $R^2$ value."
      ],
      "metadata": {
        "id": "9lRW2demnLXd"
      }
    },
    {
      "cell_type": "code",
      "source": [
        "line_eq = f'y = {alpha:.2f} + {beta:.2f}x'\n",
        "r2 = f'R^2 = {lin_res.rvalue**2:.2f}'\n",
        "\n",
        "plt.figure(figsize=(6, 6))\n",
        "\n",
        "plt.scatter(x, y, color='black')\n",
        "plt.plot(test_x, alpha + beta * test_x, color='firebrick')\n",
        "plt.fill_between(test_x, alpha + beta * test_x - interval, alpha + beta * test_x + interval, alpha=0.2, color='firebrick')\n",
        "plt.text(1.25, 11.25, line_eq)\n",
        "plt.text(1.25, 11.15, r2)\n",
        "\n",
        "plt.xlabel('log(Median Income)')\n",
        "plt.ylabel('log(Median House Value)')"
      ],
      "metadata": {
        "id": "wumPpIyOuxB1"
      },
      "execution_count": null,
      "outputs": []
    },
    {
      "cell_type": "code",
      "source": [],
      "metadata": {
        "id": "dHs7-ZgzvBdb"
      },
      "execution_count": null,
      "outputs": []
    }
  ]
}