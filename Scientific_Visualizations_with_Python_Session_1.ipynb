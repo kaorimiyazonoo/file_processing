{
  "nbformat": 4,
  "nbformat_minor": 0,
  "metadata": {
    "colab": {
      "provenance": [],
      "include_colab_link": true
    },
    "kernelspec": {
      "name": "python3",
      "display_name": "Python 3"
    },
    "language_info": {
      "name": "python"
    }
  },
  "cells": [
    {
      "cell_type": "markdown",
      "metadata": {
        "id": "view-in-github",
        "colab_type": "text"
      },
      "source": [
        "<a href=\"https://colab.research.google.com/github/kaorimiyazonoo/file_processing/blob/main/Scientific_Visualizations_with_Python_Session_1.ipynb\" target=\"_parent\"><img src=\"https://colab.research.google.com/assets/colab-badge.svg\" alt=\"Open In Colab\"/></a>"
      ]
    },
    {
      "cell_type": "markdown",
      "source": [
        "# Scientific Visualizations with Python\n",
        "\n",
        "---\n",
        "\n",
        "Welcome to the Scientific Visualizations with Python course with the Lane Medical Library!\n",
        "\n",
        "**Audience**: Scientists or medical professionals interested in visualizing data using Python. Some introductory experience in Python is expected."
      ],
      "metadata": {
        "id": "rDcrR8bocjMG"
      }
    },
    {
      "cell_type": "markdown",
      "source": [
        "## Python Prerequisites"
      ],
      "metadata": {
        "id": "SSgpvqgteOpE"
      }
    },
    {
      "cell_type": "markdown",
      "source": [
        "❓ **Try it yourself!** Retrieve the second to fourth elements in `odds` using index range notation.\n",
        "\n",
        "Indices in Python start at zero. Recall that for a list `x`, the expression `x[0:2]` for example will retrieve the first two elements in the list."
      ],
      "metadata": {
        "id": "nmxpjot9JQom"
      }
    },
    {
      "cell_type": "code",
      "source": [
        "# List of odd numbers\n",
        "odds = list(range(1, 21, 2))\n",
        "\n",
        "# YOUR CODE HERE"
      ],
      "metadata": {
        "id": "MI8QoOHQI4ea"
      },
      "execution_count": null,
      "outputs": []
    },
    {
      "cell_type": "markdown",
      "source": [
        "❓ **Try it yourself!** Import the `math` module and calculate the square root of 17."
      ],
      "metadata": {
        "id": "FTCYJ1ayJvv3"
      }
    },
    {
      "cell_type": "code",
      "source": [
        "# YOUR CODE HERE"
      ],
      "metadata": {
        "id": "ot123S3xKnyG"
      },
      "execution_count": null,
      "outputs": []
    },
    {
      "cell_type": "markdown",
      "source": [
        "## Tabular Data"
      ],
      "metadata": {
        "id": "8a-ZZKbfeQlZ"
      }
    },
    {
      "cell_type": "markdown",
      "source": [
        "When making figures, we will be dealing with **tabular data** in **flat files**. Tabular data are data organized in tables. You can imagine this data as being in a \"spreadsheet\" format. Flat files contain one record per line. This is the most common way scientific data is stored, and file formats include: tab-separated file (TSV), comma-separated file (CSV), and excel spreadsheet (XLSX).\n",
        "\n",
        "A popular library for opening such kinds of data is `pandas`. We will be using `pandas` to load some data that Google Colab provides on each instance."
      ],
      "metadata": {
        "id": "Y4NzGfYmKvWw"
      }
    },
    {
      "cell_type": "code",
      "source": [
        "import pandas as pd"
      ],
      "metadata": {
        "id": "Y7y_xhLqKuFN"
      },
      "execution_count": null,
      "outputs": []
    },
    {
      "cell_type": "markdown",
      "source": [
        "Let us explore the data provided to us! This is California Housing Prices data from the 1990's US Census. Google provides documentation on the data set [here](https://docs.google.com/document/d/e/2PACX-1vRhYtsvc5eOR2FWNCwaBiKL6suIOrxJig8LcSBbmCbyYsayia_DvPOOBlXZ4CAlQ5nlDD8kTaIDRwrN/pub).\n",
        "\n",
        "The data are provided as CSV files. To visualize the actual data in the file, let us use a `bash` command to print the first 5 lines in the file. Notice that there is a header row containing column names, followed by one record per line."
      ],
      "metadata": {
        "id": "wy8RYPW1L3W6"
      }
    },
    {
      "cell_type": "code",
      "source": [
        "!head -n 6 sample_data/california_housing_train.csv"
      ],
      "metadata": {
        "id": "ghbZ8sJ4MWAy"
      },
      "execution_count": null,
      "outputs": []
    },
    {
      "cell_type": "markdown",
      "source": [
        "`pandas` has a `read_csv` function to open files. The function returns a `DataFrame` object that represents the data. We will store this as `cal_housing`.\n",
        "\n",
        "The `DataFrame` object has many useful functions to operate on the data. To start, we will use the `.head()` function to visualize the first few lines of data. These should match the records from the `bash` command above!"
      ],
      "metadata": {
        "id": "F88dq3FmNY_z"
      }
    },
    {
      "cell_type": "code",
      "source": [
        "cal_housing = pd.read_csv('sample_data/california_housing_train.csv')\n",
        "\n",
        "print(type(cal_housing))"
      ],
      "metadata": {
        "id": "8EkP4k8sNYy1"
      },
      "execution_count": null,
      "outputs": []
    },
    {
      "cell_type": "code",
      "source": [
        "cal_housing.head()"
      ],
      "metadata": {
        "id": "T-gpVBikQft3"
      },
      "execution_count": null,
      "outputs": []
    },
    {
      "cell_type": "markdown",
      "source": [
        "Each column in the `DataFrame` is an object called a `Series`. You can retrieve series using two different notations, as follows. We will use these interchangeably. However, the second notation using index notation is required to create new `Series` objects. As such, I generally recommend using the second method to avoid confusion.\n",
        "\n",
        "```\n",
        "cal_housing.longitude.head()\n",
        "cal_housing['longitude'].head()\n",
        "```"
      ],
      "metadata": {
        "id": "FWQzhijOPfZm"
      }
    },
    {
      "cell_type": "code",
      "source": [
        "longitude_column = cal_housing['longitude']\n",
        "\n",
        "print(type(longitude_column))"
      ],
      "metadata": {
        "id": "CyNH6umJP2yj"
      },
      "execution_count": null,
      "outputs": []
    },
    {
      "cell_type": "code",
      "source": [
        "longitude_column.head()"
      ],
      "metadata": {
        "id": "oz3VSH7KQnzk"
      },
      "execution_count": null,
      "outputs": []
    },
    {
      "cell_type": "markdown",
      "source": [
        "❓ **Try it yourself!** Retrieve the `total_bedrooms` column in the `cal_housing` data frame. Visualize the first few lines using the `.head()` function."
      ],
      "metadata": {
        "id": "hxDTOt76Q33e"
      }
    },
    {
      "cell_type": "code",
      "source": [
        "# YOUR CODE HERE"
      ],
      "metadata": {
        "id": "UbupnrSLQ3qs"
      },
      "execution_count": null,
      "outputs": []
    },
    {
      "cell_type": "markdown",
      "source": [
        "❓ **Try it yourself!** The `Series` object also has a `.sum()` function. What do you think it does? Try using it on the `population` column. The `Series` object also has a `.mean()` function. Try using it on the `population` column as well."
      ],
      "metadata": {
        "id": "sY5G8fK6Rhon"
      }
    },
    {
      "cell_type": "code",
      "source": [
        "# YOUR CODE HERE"
      ],
      "metadata": {
        "id": "i2FVWt4SRuRH"
      },
      "execution_count": null,
      "outputs": []
    },
    {
      "cell_type": "markdown",
      "source": [
        "One important processing step with data is to filter based on features of the record. For example, suppose we want to filter to records where the `latitude` is smaller than `34`. The syntax for this is the following.\n",
        "\n",
        "```\n",
        "cal_housing[cal_housing['latitude'] < 34]\n",
        "```\n",
        "\n",
        "This will return a new `DataFrame` object with the filtered records."
      ],
      "metadata": {
        "id": "OQuzo9L3pWDr"
      }
    },
    {
      "cell_type": "code",
      "source": [
        "cal_housing[cal_housing['latitude'] < 34].head()"
      ],
      "metadata": {
        "id": "dKQiCCeTpzL1"
      },
      "execution_count": null,
      "outputs": []
    },
    {
      "cell_type": "markdown",
      "source": [
        "❓ **Try it yourself!** Confirm that the filtering worked by using the `.min()` and `.max()` functions of the `Series` object. Use these to make sure that the maximum latitude is less than 34 in the resulting `DataFrame` object."
      ],
      "metadata": {
        "id": "4oYeF0zLp511"
      }
    },
    {
      "cell_type": "code",
      "source": [
        "# YOUR CODE HERE"
      ],
      "metadata": {
        "id": "9aCgGH90qD7T"
      },
      "execution_count": null,
      "outputs": []
    },
    {
      "cell_type": "markdown",
      "source": [
        "## Loading Some Data"
      ],
      "metadata": {
        "id": "IHwt9XqbeZFk"
      }
    },
    {
      "cell_type": "markdown",
      "source": [
        "Here, we are creating a `DataFrame` called `cal_housing` that will contain sample data provided in all Google Colab notebooks on housing prices in California. Each row represents one house. All of the variables are continuous (e.g., `latitude` or `median_income`).\n",
        "\n",
        "We will create two discrete variables. The first is called `median_age`, and it will put the house into one of six bins based on the age of the house. The second is `id`, which is a unique value for each house.\n",
        "\n",
        "The `.cut()` function in the `pandas` library is quite useful. It converts a continuous variable into a categorical variable by creating bins.\n",
        "\n",
        "The `.index` property of a `DataFrame` contains unique identifiers for each row. Here, we add it as the `id` column to the data frame."
      ],
      "metadata": {
        "id": "sUaLC0STdKR6"
      }
    },
    {
      "cell_type": "code",
      "execution_count": null,
      "metadata": {
        "id": "6Y-RNOBbcMcu"
      },
      "outputs": [],
      "source": [
        "# Read data using the pandas read_csv function\n",
        "cal_housing = pd.read_csv('sample_data/california_housing_train.csv')\n",
        "\n",
        "# Create the median_age variable using the pandas cut function\n",
        "cal_housing['median_age'] = pd.cut(\n",
        "    cal_housing.housing_median_age, bins=[0, 10, 20, 30, 40, 50, 60],\n",
        "    labels=['0-10', '10-20', '20-30', '30-40', '40-50', '50-60'],\n",
        "    include_lowest=True\n",
        ")\n",
        "\n",
        "# Store the index of the DataFrame as a variable, which assigns a unique value\n",
        "# to each house\n",
        "cal_housing['id'] = cal_housing.index\n",
        "\n",
        "# Visualize the first few lines\n",
        "cal_housing.head()"
      ]
    },
    {
      "cell_type": "markdown",
      "source": [
        "## Bar Plot\n",
        "\n",
        "The bar plot is great for plotting the distribution of a single, discrete variable. In the California housing data set, we created the `median_age` discrete variable. We will create a bar plot for this variable."
      ],
      "metadata": {
        "id": "Sddb6E_becVj"
      }
    },
    {
      "cell_type": "markdown",
      "source": [
        "First, we need to process the data to extract the distribution of `median_age`. To get the distribution, we need to **count** the number of houses in each bin. `pandas` provides many helpful functions to accomplish this. First, we tell `pandas` that we are binning by `median_age` using the `.groupby()` function. Next, we tell it to count the instances of `id` in each group using the `.count()` function.\n",
        "\n",
        "The `reset_index()` function turns the index into a column. Try running the code without the `reset_index()` function to see what it does!"
      ],
      "metadata": {
        "id": "TiKtPvyGfZaQ"
      }
    },
    {
      "cell_type": "code",
      "source": [
        "plot_data = cal_housing.groupby('median_age', observed=True)['id'].count()\n",
        "plot_data = plot_data.reset_index()\n",
        "plot_data['median_age'] = plot_data['median_age'].astype(str)\n",
        "\n",
        "plot_data.head()"
      ],
      "metadata": {
        "id": "_r3PPyLrfSoo"
      },
      "execution_count": null,
      "outputs": []
    },
    {
      "cell_type": "markdown",
      "source": [
        "Now, we are ready to visualize the data. `matplotlib` is the most popular data visualization library in Python. To see how quickly we can visualize this data, use the next three lines of code to create a bar plot!"
      ],
      "metadata": {
        "id": "WI4gIGiqgsXx"
      }
    },
    {
      "cell_type": "code",
      "source": [
        "import matplotlib.pyplot as plt"
      ],
      "metadata": {
        "id": "IQk5jEeEU2E2"
      },
      "execution_count": null,
      "outputs": []
    },
    {
      "cell_type": "code",
      "source": [
        "# Create a new figure that is 8-by-8 inches\n",
        "plt.figure(figsize=(8, 8))\n",
        "\n",
        "# Create a bar plot\n",
        "# Use the median age bins on the horizontal axis\n",
        "# Set the height of each bar to be the number of houses in each bin\n",
        "plt.bar(plot_data.median_age, plot_data.id)\n",
        "\n",
        "# Show the plot\n",
        "# Not necessary to call this in a Jupyter notebook\n",
        "plt.show()"
      ],
      "metadata": {
        "id": "xEEKPciwf5mj"
      },
      "execution_count": null,
      "outputs": []
    },
    {
      "cell_type": "markdown",
      "source": [
        "❓ **Try it yourself!** The `pyplot` interface has three useful functions to make the graph more readable:\n",
        "\n",
        "1. `plt.xlabel()`\n",
        "2. `plt.ylabel()`\n",
        "3. `plt.title()`\n",
        "\n",
        "Use the internet to figure out what these functions do, and use them to make your plot more readable!"
      ],
      "metadata": {
        "id": "4jbF8W1qVHq-"
      }
    },
    {
      "cell_type": "code",
      "source": [
        "# YOUR CODE HERE"
      ],
      "metadata": {
        "id": "UJ1SH3gvhGt9"
      },
      "execution_count": null,
      "outputs": []
    },
    {
      "cell_type": "markdown",
      "source": [
        "❓ **Try it yourself!** The `plt.bar` function (and many other graph types) have a `color` argument that can be used to change the color of the graphic elements. There are some colors that are provided by name, such as `'red'`, `'green'`, etc. You can also use hex code encodings of RGB colors, such as `'#8C1515'`. Use this argument to change the color of the bars."
      ],
      "metadata": {
        "id": "1jK9lcRlV3h5"
      }
    },
    {
      "cell_type": "code",
      "source": [
        "# YOUR CODE HERE"
      ],
      "metadata": {
        "id": "EPMonPP-hMVT"
      },
      "execution_count": null,
      "outputs": []
    },
    {
      "cell_type": "markdown",
      "source": [
        "❓ **Try it yourself!** The `color` argument can also take a list of colors. Color the first two bars, second two bars, and last two bars using unique colors."
      ],
      "metadata": {
        "id": "NdCQv8wgnqYZ"
      }
    },
    {
      "cell_type": "code",
      "source": [
        "# YOUR CODE HERE"
      ],
      "metadata": {
        "id": "YLmCotnAnqy0"
      },
      "execution_count": null,
      "outputs": []
    },
    {
      "cell_type": "markdown",
      "source": [
        "❓ **Try it yourself!** Another method to visualize bars is using the `hatch` argument in the `plt.bar` function. Try setting the `hatch` to `'///'` and see what happens!"
      ],
      "metadata": {
        "id": "hFKAIuCLWXfx"
      }
    },
    {
      "cell_type": "code",
      "source": [
        "# YOUR CODE HERE"
      ],
      "metadata": {
        "id": "cxqsgwj-h0Si"
      },
      "execution_count": null,
      "outputs": []
    },
    {
      "cell_type": "markdown",
      "source": [
        "## Histogram\n",
        "\n",
        "The histogram is an extension of the bar plot for continuous variables. We will look at the `median_house_value` variable in the California housing data.\n",
        "\n",
        "A histogram also bins the data, but does so automatically for you. The goal of a histogram is to visualize the actual distribution of the data using an approximation. A bar plot, in contrast, assumes a fixed set of discrete categories."
      ],
      "metadata": {
        "id": "fJo1mxmmALjh"
      }
    },
    {
      "cell_type": "code",
      "source": [
        "plt.figure(figsize=(8, 8))\n",
        "\n",
        "plt.hist(cal_housing.median_house_value)\n",
        "\n",
        "plt.xlabel('Median House Value')\n",
        "plt.ylabel('Number of Houses')\n",
        "plt.title('Distribution of Median House Value in California')"
      ],
      "metadata": {
        "id": "6LjpSUqXiW9x"
      },
      "execution_count": null,
      "outputs": []
    },
    {
      "cell_type": "markdown",
      "source": [
        "❓ **Try it yourself!** The bin with a lot of houses at the very tail of the distribution might be an artifact. To check, use the `bins` argument in the `plt.hist()` function. Set the bins to `50` to visualize the distribution better."
      ],
      "metadata": {
        "id": "miPOTFd5orY9"
      }
    },
    {
      "cell_type": "code",
      "source": [
        "# YOUR CODE HERE"
      ],
      "metadata": {
        "id": "RyoMBPZtAofi"
      },
      "execution_count": null,
      "outputs": []
    },
    {
      "cell_type": "markdown",
      "source": [
        "This plot should show that there are many houses with a median house value of around 500,000. This probably means that any houses with a median house value larger than 500,000 were clamped to this value. We would want to plot the distribution without those values.\n",
        "\n",
        "❓ **Try it yourself!** Filter the `cal_housing` data frame to `median_house_value` less than 500,000. Plot the histogram of `median_house_value` after filtering."
      ],
      "metadata": {
        "id": "4CRjcWYoqIjb"
      }
    },
    {
      "cell_type": "code",
      "source": [
        "# YOUR CODE HERE"
      ],
      "metadata": {
        "id": "F5CzZ5m-BYcM"
      },
      "execution_count": null,
      "outputs": []
    },
    {
      "cell_type": "markdown",
      "source": [
        "❓ **Try it yourself!** Change the color of histogram bars using the `color` argument in `plt.hist()`."
      ],
      "metadata": {
        "id": "LvoJNcT8qhWl"
      }
    },
    {
      "cell_type": "code",
      "source": [
        "# YOUR CODE HERE"
      ],
      "metadata": {
        "id": "K_tq1TmnBnO2"
      },
      "execution_count": null,
      "outputs": []
    },
    {
      "cell_type": "markdown",
      "source": [
        "❓ **Try it yourself!** Plot the distribution of the `latitude` column using a histogram. Can you explain the pattern?"
      ],
      "metadata": {
        "id": "EK4HLpVCqs2b"
      }
    },
    {
      "cell_type": "code",
      "source": [
        "# YOUR CODE HERE"
      ],
      "metadata": {
        "id": "P6Wwbi1gCLv3"
      },
      "execution_count": null,
      "outputs": []
    },
    {
      "cell_type": "markdown",
      "source": [
        "![](https://external-content.duckduckgo.com/iu/?u=https%3A%2F%2Fwww.mapsofworld.com%2Fusa%2Fstates%2Fcalifornia%2Fmaps%2Fcalifornia-lat-long-map.jpg&f=1&nofb=1&ipt=de5aa3a686ab5b16d19c2c80ccc86f70fc36052fbafc1cd9f7e915aa885857e7&ipo=images)"
      ],
      "metadata": {
        "id": "6VrG72bs7Wo8"
      }
    },
    {
      "cell_type": "code",
      "source": [
        "plt.figure(figsize=(4, 8))\n",
        "\n",
        "plt.scatter(cal_housing.longitude, cal_housing.latitude, s=10, alpha=0.2, color='black')\n",
        "\n",
        "plt.axhline(34)\n",
        "plt.axhline(38)"
      ],
      "metadata": {
        "id": "70PbaSsE7nm4"
      },
      "execution_count": null,
      "outputs": []
    },
    {
      "cell_type": "markdown",
      "source": [
        "## Saving Figures"
      ],
      "metadata": {
        "id": "Gcb7AdMtq3Lu"
      }
    },
    {
      "cell_type": "markdown",
      "source": [
        "Saving high-quality figures is important for publication. It is always recommended that you export figures in a **vector graphics format**. This means that the resulting figure is editable by other software, which can allow you to edit the figure outside of the Python environment.\n",
        "\n",
        "In this course, we will use the portable document format (PDF). Other examples of vector graphics formats include scalable vector graphics (SVG) and encapsulated PostScript (EPS)."
      ],
      "metadata": {
        "id": "l-VWOesFq5i_"
      }
    },
    {
      "cell_type": "code",
      "source": [
        "plt.figure(figsize=(8, 8))\n",
        "\n",
        "plt.hist(cal_housing.median_house_value)\n",
        "\n",
        "plt.xlabel('Median House Value')\n",
        "plt.ylabel('Number of Houses')\n",
        "plt.title('Distribution of Median House Value in California')\n",
        "\n",
        "plt.savefig('figure.pdf')"
      ],
      "metadata": {
        "id": "R8w3lHqtEAD7"
      },
      "execution_count": null,
      "outputs": []
    },
    {
      "cell_type": "markdown",
      "source": [
        "There are some cases where a vector graphics format might not be appropriate. For example, if you are plotting millions of points (for example, when analyzing single-cell RNA-seq data), the vector graphics format file will be gigantic. Instead, you must use a raster format such as portable network graphics (PNG) or joint photographic experts group (JPEG)."
      ],
      "metadata": {
        "id": "nElvTXOHrqyi"
      }
    },
    {
      "cell_type": "code",
      "source": [
        "plt.figure(figsize=(8, 8))\n",
        "\n",
        "plt.hist(cal_housing.median_house_value)\n",
        "\n",
        "plt.xlabel('Median House Value')\n",
        "plt.ylabel('Number of Houses')\n",
        "plt.title('Distribution of Median House Value in California')\n",
        "\n",
        "plt.savefig('figure.png')"
      ],
      "metadata": {
        "id": "r9dL_jwurdbQ"
      },
      "execution_count": null,
      "outputs": []
    },
    {
      "cell_type": "code",
      "source": [],
      "metadata": {
        "id": "o4PdwGOJsH5Y"
      },
      "execution_count": null,
      "outputs": []
    }
  ]
}